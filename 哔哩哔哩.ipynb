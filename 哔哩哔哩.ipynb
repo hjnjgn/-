{
 "cells": [
  {
   "cell_type": "code",
   "execution_count": null,
   "metadata": {},
   "outputs": [
    {
     "name": "stdout",
     "output_type": "stream",
     "text": [
      "------等待中------\n",
      "------等待中------\n",
      "------等待中------\n",
      "------等待中------\n",
      "------等待中------\n",
      "------等待中------\n",
      "------等待中------\n",
      "------等待中------\n",
      "------等待中------\n",
      "------等待中------\n",
      "======登陆成功======\n"
     ]
    }
   ],
   "source": [
    "from selenium import webdriver\n",
    "from datetime import datetime\n",
    "import numpy as np\n",
    "\n",
    "#登录哔哩哔哩\n",
    "i=0\n",
    "driver = webdriver.Edge()\n",
    "driver.get(\"https://www.bilibili.com/\")\n",
    "driver.find_element_by_xpath(\"/html/body/div[2]/div[1]/div[1]/ul[2]/li[1]/li/div/div\").click()\n",
    "while True:\n",
    "    try:\n",
    "        driver.find_element_by_class_name(\"nickname-item\")\n",
    "        print(\"======登陆成功======\")\n",
    "        driver.get(\"https://www.bilibili.com/blackboard/activity-award-exchange.html?task_id=c960eced\")#头像框界面\n",
    "#         driver.get(\"https://www.bilibili.com/blackboard/activity-award-exchange.html?task_id=15c0bbe7\") #测试界面\n",
    "        buy_time = \"2022-04-06 01:00:00\"# 输入购买时间\n",
    "        while True:\n",
    "            now_time = datetime.now().strftime(\"%Y-%m-%d %H:%M:%S\") #现在时间\n",
    "            if now_time == buy_time:\n",
    "                driver.find_element_by_xpath(\"/html/body/div[1]/div[1]/div[3]/section[2]/div\").click()\n",
    "                print(\"------提交订单------\")\n",
    "                break\n",
    "    except:\n",
    "        i+=1\n",
    "        if i%100==0:\n",
    "            print(\"------等待中------\")"
   ]
  },
  {
   "cell_type": "code",
   "execution_count": null,
   "metadata": {},
   "outputs": [],
   "source": []
  },
  {
   "cell_type": "code",
   "execution_count": null,
   "metadata": {},
   "outputs": [],
   "source": []
  }
 ],
 "metadata": {
  "kernelspec": {
   "display_name": "Python 3",
   "language": "python",
   "name": "python3"
  },
  "language_info": {
   "codemirror_mode": {
    "name": "ipython",
    "version": 3
   },
   "file_extension": ".py",
   "mimetype": "text/x-python",
   "name": "python",
   "nbconvert_exporter": "python",
   "pygments_lexer": "ipython3",
   "version": "3.8.5"
  }
 },
 "nbformat": 4,
 "nbformat_minor": 4
}
